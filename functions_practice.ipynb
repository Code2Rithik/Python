{
 "cells": [
  {
   "cell_type": "code",
   "execution_count": 79,
   "outputs": [],
   "source": [
    "def Encrypt(text):\n",
    "    global zebra\n",
    "    zebra = text[::-1]\n",
    "    print(f'Success! Your message was encrypted! View it with the View() method. Decrypt it with the Decrypt() method')\n",
    "\n",
    "def View():\n",
    "    print(zebra)\n",
    "\n",
    "def Decrypt():\n",
    "    zebra2 = zebra[::-1]\n",
    "    print(zebra2)"
   ],
   "metadata": {
    "collapsed": false,
    "pycharm": {
     "name": "#%%\n"
    }
   }
  },
  {
   "cell_type": "code",
   "execution_count": 80,
   "outputs": [
    {
     "name": "stdout",
     "output_type": "stream",
     "text": [
      "Success! Your message was encrypted! View it with the View() method. Decrypt it with the Decrypt() method\n"
     ]
    }
   ],
   "source": [
    "Encrypt(\"Password@123\")"
   ],
   "metadata": {
    "collapsed": false,
    "pycharm": {
     "name": "#%%\n"
    }
   }
  },
  {
   "cell_type": "code",
   "execution_count": 81,
   "outputs": [
    {
     "name": "stdout",
     "output_type": "stream",
     "text": [
      "321@drowssaP\n"
     ]
    }
   ],
   "source": [
    "View()"
   ],
   "metadata": {
    "collapsed": false,
    "pycharm": {
     "name": "#%%\n"
    }
   }
  },
  {
   "cell_type": "code",
   "execution_count": 82,
   "outputs": [
    {
     "name": "stdout",
     "output_type": "stream",
     "text": [
      "Password@123\n"
     ]
    }
   ],
   "source": [
    "Decrypt()"
   ],
   "metadata": {
    "collapsed": false,
    "pycharm": {
     "name": "#%%\n"
    }
   }
  },
  {
   "cell_type": "code",
   "execution_count": null,
   "outputs": [],
   "source": [],
   "metadata": {
    "collapsed": false,
    "pycharm": {
     "name": "#%%\n"
    }
   }
  }
 ],
 "metadata": {
  "kernelspec": {
   "display_name": "Python 3",
   "language": "python",
   "name": "python3"
  },
  "language_info": {
   "codemirror_mode": {
    "name": "ipython",
    "version": 2
   },
   "file_extension": ".py",
   "mimetype": "text/x-python",
   "name": "python",
   "nbconvert_exporter": "python",
   "pygments_lexer": "ipython2",
   "version": "2.7.6"
  }
 },
 "nbformat": 4,
 "nbformat_minor": 0
}